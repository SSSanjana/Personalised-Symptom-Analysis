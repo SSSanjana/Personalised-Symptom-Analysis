{
 "cells": [
  {
   "cell_type": "code",
   "execution_count": 12,
   "id": "7dbbe21a",
   "metadata": {},
   "outputs": [
    {
     "name": "stdout",
     "output_type": "stream",
     "text": [
      "Requirement already satisfied: contractions in c:\\users\\sanjana ss\\anaconda\\lib\\site-packages (0.1.73)\n",
      "Requirement already satisfied: textsearch>=0.0.21 in c:\\users\\sanjana ss\\anaconda\\lib\\site-packages (from contractions) (0.0.24)\n",
      "Requirement already satisfied: anyascii in c:\\users\\sanjana ss\\anaconda\\lib\\site-packages (from textsearch>=0.0.21->contractions) (0.3.2)\n",
      "Requirement already satisfied: pyahocorasick in c:\\users\\sanjana ss\\anaconda\\lib\\site-packages (from textsearch>=0.0.21->contractions) (2.1.0)\n",
      "Note: you may need to restart the kernel to use updated packages.\n"
     ]
    }
   ],
   "source": [
    "pip install contractions"
   ]
  },
  {
   "cell_type": "code",
   "execution_count": 13,
   "id": "f2fb39dd",
   "metadata": {},
   "outputs": [
    {
     "name": "stdout",
     "output_type": "stream",
     "text": [
      "Requirement already satisfied: pandas in c:\\users\\sanjana ss\\anaconda\\lib\\site-packages (1.4.2)\n",
      "Requirement already satisfied: nltk in c:\\users\\sanjana ss\\anaconda\\lib\\site-packages (3.7)\n",
      "Requirement already satisfied: numpy>=1.18.5 in c:\\users\\sanjana ss\\anaconda\\lib\\site-packages (from pandas) (1.21.5)\n",
      "Requirement already satisfied: pytz>=2020.1 in c:\\users\\sanjana ss\\anaconda\\lib\\site-packages (from pandas) (2021.3)\n",
      "Requirement already satisfied: python-dateutil>=2.8.1 in c:\\users\\sanjana ss\\anaconda\\lib\\site-packages (from pandas) (2.8.2)\n",
      "Requirement already satisfied: click in c:\\users\\sanjana ss\\anaconda\\lib\\site-packages (from nltk) (8.0.4)\n",
      "Requirement already satisfied: joblib in c:\\users\\sanjana ss\\anaconda\\lib\\site-packages (from nltk) (1.1.0)\n",
      "Requirement already satisfied: tqdm in c:\\users\\sanjana ss\\anaconda\\lib\\site-packages (from nltk) (4.64.0)\n",
      "Requirement already satisfied: regex>=2021.8.3 in c:\\users\\sanjana ss\\anaconda\\lib\\site-packages (from nltk) (2022.3.15)\n",
      "Requirement already satisfied: six>=1.5 in c:\\users\\sanjana ss\\anaconda\\lib\\site-packages (from python-dateutil>=2.8.1->pandas) (1.16.0)\n",
      "Requirement already satisfied: colorama in c:\\users\\sanjana ss\\anaconda\\lib\\site-packages (from click->nltk) (0.4.4)\n",
      "Note: you may need to restart the kernel to use updated packages.\n"
     ]
    }
   ],
   "source": [
    "pip install pandas nltk"
   ]
  },
  {
   "cell_type": "code",
   "execution_count": 14,
   "id": "15c1a7e8",
   "metadata": {},
   "outputs": [],
   "source": [
    "import pandas as pd\n",
    "import nltk\n",
    "from nltk.corpus import stopwords\n",
    "from nltk.tokenize import word_tokenize\n",
    "from nltk.stem import PorterStemmer\n",
    "from sklearn.feature_extraction.text import TfidfVectorizer\n",
    "import string\n",
    "import contractions\n"
   ]
  },
  {
   "cell_type": "code",
   "execution_count": 15,
   "id": "722c762a",
   "metadata": {},
   "outputs": [
    {
     "name": "stderr",
     "output_type": "stream",
     "text": [
      "[nltk_data] Downloading package punkt to C:\\Users\\Sanjana\n",
      "[nltk_data]     SS\\AppData\\Roaming\\nltk_data...\n",
      "[nltk_data]   Package punkt is already up-to-date!\n",
      "[nltk_data] Downloading package stopwords to C:\\Users\\Sanjana\n",
      "[nltk_data]     SS\\AppData\\Roaming\\nltk_data...\n",
      "[nltk_data]   Package stopwords is already up-to-date!\n"
     ]
    },
    {
     "data": {
      "text/plain": [
       "True"
      ]
     },
     "execution_count": 15,
     "metadata": {},
     "output_type": "execute_result"
    }
   ],
   "source": [
    "nltk.download('punkt')\n",
    "nltk.download('stopwords')"
   ]
  },
  {
   "cell_type": "code",
   "execution_count": 16,
   "id": "7b682e67",
   "metadata": {},
   "outputs": [
    {
     "name": "stdout",
     "output_type": "stream",
     "text": [
      "                                           Complaint  \\\n",
      "0         I've been coughing and have a sore throat.   \n",
      "1       My nose is congested, and I have body aches.   \n",
      "2  I feel tired and have been sneezing a lot lately.   \n",
      "3            I've had a runny nose and a mild fever.   \n",
      "4  I have a headache that feels like a constant p...   \n",
      "\n",
      "                      Diagnosis  \n",
      "0  Upper respiratory infection.  \n",
      "1  Upper respiratory infection.  \n",
      "2  Upper respiratory infection.  \n",
      "3  Upper respiratory infection.  \n",
      "4                     Migraine.  \n"
     ]
    }
   ],
   "source": [
    "df = pd.read_csv('complaints.csv')\n",
    "\n",
    "print(df.head())"
   ]
  },
  {
   "cell_type": "code",
   "execution_count": 17,
   "id": "56942376",
   "metadata": {},
   "outputs": [],
   "source": [
    "def expand_contractions(text):\n",
    "    return contractions.fix(text)"
   ]
  },
  {
   "cell_type": "code",
   "execution_count": 18,
   "id": "d6bb0749",
   "metadata": {},
   "outputs": [],
   "source": [
    "def preprocess_text(text):\n",
    "  \n",
    "    text = expand_contractions(text)\n",
    "  \n",
    "    text = text.lower()\n",
    "\n",
    "    text = text.translate(str.maketrans('', '', string.punctuation))\n",
    "\n",
    "\n",
    "    tokens = word_tokenize(text)\n",
    "\n",
    "    stop_words = set(stopwords.words('english')).union({'feel', 'like'})\n",
    "    tokens = [word for word in tokens if word not in stop_words]\n",
    "    \n",
    "    stop_words = set(stopwords.words('english'))\n",
    "    tokens = [word for word in tokens if word not in stop_words]\n",
    "    \n",
    "\n",
    "    stemmer = PorterStemmer()\n",
    "    tokens = [stemmer.stem(word) for word in tokens]\n",
    "\n",
    "    return ' '.join(tokens)"
   ]
  },
  {
   "cell_type": "code",
   "execution_count": 19,
   "id": "71db5fc1",
   "metadata": {},
   "outputs": [],
   "source": [
    "df['cleaned_complaint'] = df['Complaint'].apply(preprocess_text)"
   ]
  },
  {
   "cell_type": "code",
   "execution_count": 20,
   "id": "e0cdac62",
   "metadata": {},
   "outputs": [],
   "source": [
    "df[['cleaned_complaint', 'Diagnosis']].to_csv('cleaned_symptoms1.csv', index=False)"
   ]
  },
  {
   "cell_type": "code",
   "execution_count": 21,
   "id": "303b5dc5",
   "metadata": {},
   "outputs": [
    {
     "name": "stdout",
     "output_type": "stream",
     "text": [
      "\n",
      "Cleaned Symptoms with Diagnoses Preview:\n",
      "                            cleaned_complaint                     Diagnosis\n",
      "0                           cough sore throat  Upper respiratory infection.\n",
      "1                       nose congest bodi ach  Upper respiratory infection.\n",
      "2                         tire sneez lot late  Upper respiratory infection.\n",
      "3                       runni nose mild fever  Upper respiratory infection.\n",
      "4  headach feel constant pressur around templ                     Migraine.\n"
     ]
    }
   ],
   "source": [
    "print(\"\\nCleaned Symptoms with Diagnoses Preview:\")\n",
    "print(df[['cleaned_complaint', 'Diagnosis']].head())"
   ]
  },
  {
   "cell_type": "code",
   "execution_count": null,
   "id": "e1784604",
   "metadata": {},
   "outputs": [],
   "source": []
  },
  {
   "cell_type": "code",
   "execution_count": null,
   "id": "1ac583c7",
   "metadata": {},
   "outputs": [],
   "source": []
  }
 ],
 "metadata": {
  "kernelspec": {
   "display_name": "Python 3 (ipykernel)",
   "language": "python",
   "name": "python3"
  },
  "language_info": {
   "codemirror_mode": {
    "name": "ipython",
    "version": 3
   },
   "file_extension": ".py",
   "mimetype": "text/x-python",
   "name": "python",
   "nbconvert_exporter": "python",
   "pygments_lexer": "ipython3",
   "version": "3.9.12"
  }
 },
 "nbformat": 4,
 "nbformat_minor": 5
}
